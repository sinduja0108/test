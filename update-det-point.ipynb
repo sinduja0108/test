{
 "cells": [
  {
   "cell_type": "code",
   "execution_count": 1,
   "metadata": {},
   "outputs": [],
   "source": [
    "import pandas as pd"
   ]
  },
  {
   "cell_type": "code",
   "execution_count": 24,
   "metadata": {},
   "outputs": [
    {
     "data": {
      "text/plain": [
       "Index(['Key', 'Defect Type', 'Root Cause', 'Injection Point',\n",
       "       'Detection Point', 'Notes'],\n",
       "      dtype='object')"
      ]
     },
     "execution_count": 24,
     "metadata": {},
     "output_type": "execute_result"
    }
   ],
   "source": [
    "neer=pd.read_csv('neerja.csv')\n",
    "neer.columns\n",
    "neer=neer[['Key','Defect Type', 'Root Cause', 'Injection Point', 'Detection Point','Notes']]\n",
    "neer.columns"
   ]
  },
  {
   "cell_type": "code",
   "execution_count": 20,
   "metadata": {},
   "outputs": [
    {
     "data": {
      "text/plain": [
       "array([nan, 'Not a defect. Placeholder.',\n",
       "       'Not a defect.Placeholder for UAT defects.', 'Not a defect.',\n",
       "       'Not a defect. Listed as placeholder.'], dtype=object)"
      ]
     },
     "execution_count": 20,
     "metadata": {},
     "output_type": "execute_result"
    }
   ],
   "source": [
    "neer['Notes'].unique()\n",
    "# df[df['A'].isna()]"
   ]
  },
  {
   "cell_type": "code",
   "execution_count": 23,
   "metadata": {},
   "outputs": [
    {
     "data": {
      "text/plain": [
       "Index(['Key', 'Parent Key', 'Sprint Name', 'Sprint Start Date',\n",
       "       'Sprint End Date', 'Cycle', 'Project', 'Team', 'Product', 'Org_Id',\n",
       "       'Created', 'Resolved', 'Year', 'Number of days', 'Status',\n",
       "       'Defect Type', 'Root Cause', 'Injection Point', 'Detection Point',\n",
       "       'Detection Group'],\n",
       "      dtype='object')"
      ]
     },
     "execution_count": 23,
     "metadata": {},
     "output_type": "execute_result"
    }
   ],
   "source": [
    "df=pd.read_csv('all_old.csv')\n",
    "df.columns"
   ]
  },
  {
   "cell_type": "code",
   "execution_count": 8,
   "metadata": {},
   "outputs": [
    {
     "data": {
      "text/plain": [
       "Key                                     USAS-1749\n",
       "Parent Key                                    NaN\n",
       "Sprint Name          USAS Implementation Sprint 8\n",
       "Sprint Start Date                      2024-06-25\n",
       "Sprint End Date                        2024-07-15\n",
       "Cycle                                     2024-Q2\n",
       "Project                                      USAS\n",
       "Team                                          NaN\n",
       "Product                                       NaN\n",
       "Org_Id                                    faausas\n",
       "Created                                06-27-2024\n",
       "Resolved                                      NaN\n",
       "Year                                         2024\n",
       "Number of days                                NaN\n",
       "Status                                      To Do\n",
       "Defect Type          Logical Bugs/Functional Bugs\n",
       "Root Cause                                    NaN\n",
       "Injection Point                               NaN\n",
       "Detection Point                    In Development\n",
       "Detection Group                       Development\n",
       "Name: 0, dtype: object"
      ]
     },
     "execution_count": 8,
     "metadata": {},
     "output_type": "execute_result"
    }
   ],
   "source": [
    "df.iloc[0]"
   ]
  },
  {
   "cell_type": "code",
   "execution_count": 25,
   "metadata": {},
   "outputs": [],
   "source": [
    "import numpy as np\n",
    "df['Notes']=np.nan\n",
    "columns_to_update = ['Detection Point', 'Defect Type', 'Root Cause', 'Injection Point', 'Notes']\n",
    "\n",
    "\n",
    "for column in columns_to_update:\n",
    "    issue_key_to_value = pd.Series(neer[column].values, index=neer['Key']).to_dict()\n",
    "    df[column] = df[column].fillna(df['Key'].map(issue_key_to_value))\n",
    "\n",
    "df= df[df['Notes'].isna()]"
   ]
  },
  {
   "cell_type": "code",
   "execution_count": 26,
   "metadata": {},
   "outputs": [],
   "source": [
    "df.to_csv('defects.csv',index=False)"
   ]
  },
  {
   "cell_type": "code",
   "execution_count": 27,
   "metadata": {},
   "outputs": [],
   "source": [
    "sprint_data_df = pd.read_csv('sprint.csv')\n",
    "defects_df = pd.read_csv('defects.csv')"
   ]
  },
  {
   "cell_type": "code",
   "execution_count": 28,
   "metadata": {},
   "outputs": [
    {
     "data": {
      "text/plain": [
       "0    0\n",
       "1    0\n",
       "2    0\n",
       "3    0\n",
       "4    0\n",
       "5    0\n",
       "6    0\n",
       "7    0\n",
       "Name: other_defects, dtype: int64"
      ]
     },
     "execution_count": 28,
     "metadata": {},
     "output_type": "execute_result"
    }
   ],
   "source": [
    "sprint_data_df.insert(sprint_data_df.columns.get_loc('uat_defects') + 1, 'other_defects', 0)\n",
    "sprint_data_df['other_defects']"
   ]
  },
  {
   "cell_type": "code",
   "execution_count": 29,
   "metadata": {},
   "outputs": [
    {
     "data": {
      "text/plain": [
       "array(['Development', 'Testing', 'Review', 'UAT'], dtype=object)"
      ]
     },
     "execution_count": 29,
     "metadata": {},
     "output_type": "execute_result"
    }
   ],
   "source": [
    "defects_df['Detection Group'].unique()"
   ]
  },
  {
   "cell_type": "code",
   "execution_count": 30,
   "metadata": {},
   "outputs": [
    {
     "name": "stdout",
     "output_type": "stream",
     "text": [
      "Updated sprint data saved to updated_sprint_data.csv\n"
     ]
    }
   ],
   "source": [
    "for idx, row in sprint_data_df.iterrows():\n",
    "    sprint_name = row['sprint_name']\n",
    "    \n",
    "    # Filter defects for the current sprint\n",
    "    sprint_defects = defects_df[defects_df['Sprint Name'] == sprint_name]\n",
    "    \n",
    "    # Count defects by detection group and update the columns\n",
    "    sprint_data_df.at[idx, 'defects_count'] = len(sprint_defects)\n",
    "    sprint_data_df.at[idx, 'development_defects'] = (sprint_defects['Detection Group'] == 'Development').sum()\n",
    "    sprint_data_df.at[idx, 'review_defects'] = (sprint_defects['Detection Group'] == 'Review').sum()\n",
    "    sprint_data_df.at[idx, 'testing_defects'] = (sprint_defects['Detection Group'] == 'Testing').sum()\n",
    "    \n",
    "    sprint_data_df.at[idx, 'uat_defects'] = (sprint_defects['Detection Group'] == 'UAT').sum()\n",
    "    sprint_data_df.at[idx, 'other_defects'] = sprint_defects[\n",
    "        ~sprint_defects['Detection Group'].isin(['Development', 'Review', 'UAT','Testing'])\n",
    "    ].shape[0]\n",
    "\n",
    "# Save the updated sprint_data to a new Excel file\n",
    "output_file = 'updated_sprint_data.csv'\n",
    "sprint_data_df.to_csv(output_file, index=False)\n",
    "\n",
    "print(f\"Updated sprint data saved to {output_file}\")\n"
   ]
  },
  {
   "cell_type": "code",
   "execution_count": 31,
   "metadata": {},
   "outputs": [
    {
     "name": "stdout",
     "output_type": "stream",
     "text": [
      "Data with defect density metrics saved to updated_sprint_data_with_density.csv\n"
     ]
    }
   ],
   "source": [
    "# Load the updated sprint_data\n",
    "sprint_data_df = pd.read_csv('updated_sprint_data.csv')\n",
    "\n",
    "# Calculate the new columns based on the conditions provided\n",
    "sprint_data_df['defect_density_points'] = sprint_data_df.apply(\n",
    "    lambda row: row['defects_count'] / row['story_points_completed'] if row['story_points_completed'] else 0, axis=1\n",
    ")\n",
    "\n",
    "sprint_data_df['weighted_defect_density_points'] = sprint_data_df.apply(\n",
    "    lambda row: (row['review_defects'] + row['development_defects'] + \n",
    "                 2 * row['testing_defects'] + 3 * row['uat_defects'] + \n",
    "                 5 * row.get('production_defects', 0)) / row['story_points_completed']\n",
    "    if row['story_points_completed'] else 0, axis=1\n",
    ")\n",
    "\n",
    "sprint_data_df['development_defect_density'] = sprint_data_df.apply(\n",
    "    lambda row: row['development_defects'] / row['story_points_completed'] if row['story_points_completed'] else 0, axis=1\n",
    ")\n",
    "\n",
    "sprint_data_df['review_defect_density'] = sprint_data_df.apply(\n",
    "    lambda row: row['review_defects'] / row['story_points_completed'] if row['story_points_completed'] else 0, axis=1\n",
    ")\n",
    "\n",
    "sprint_data_df['testing_defect_density'] = sprint_data_df.apply(\n",
    "    lambda row: row['testing_defects'] / row['story_points_completed'] if row['story_points_completed'] else 0, axis=1\n",
    ")\n",
    "\n",
    "sprint_data_df['development_and_review_defect_density'] = sprint_data_df.apply(\n",
    "    lambda row: (row['development_defects'] + row['review_defects']) / row['story_points_completed']\n",
    "    if row['story_points_completed'] else 0, axis=1\n",
    ")\n",
    "\n",
    "# Save the updated DataFrame to a new Excel file\n",
    "output_file = 'updated_sprint_data_with_density.csv'\n",
    "sprint_data_df.to_csv(output_file, index=False)\n",
    "\n",
    "print(f\"Data with defect density metrics saved to {output_file}\")"
   ]
  }
 ],
 "metadata": {
  "kernelspec": {
   "display_name": "Python 3",
   "language": "python",
   "name": "python3"
  },
  "language_info": {
   "codemirror_mode": {
    "name": "ipython",
    "version": 3
   },
   "file_extension": ".py",
   "mimetype": "text/x-python",
   "name": "python",
   "nbconvert_exporter": "python",
   "pygments_lexer": "ipython3",
   "version": "3.12.6"
  }
 },
 "nbformat": 4,
 "nbformat_minor": 2
}
